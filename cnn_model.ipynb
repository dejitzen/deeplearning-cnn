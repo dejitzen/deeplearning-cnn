{
 "cells": [
  {
   "cell_type": "code",
   "execution_count": null,
   "metadata": {},
   "outputs": [],
   "source": [
    "import numpy as np\n",
    "import matplotlib.pyplot as plt\n",
    "import pandas as pd\n",
    "import os\n",
    "import cv2\n",
    "from tqdm import tqdm\n",
    "\n",
    "DATADIR = \"/Users/dejitzen/Downloads/Datasets\"\n",
    "\n",
    "CATEGORIES = [\"Dog\", \"Cat\"]\n",
    "\n",
    "for category in CATEGORIES:                \n",
    "    path = os.path.join(DATADIR, category) # create path to dogs and cats\n",
    "    for img in os.listdir(path): # iterate over each image per dogs and cats\n",
    "        img_array = cv2.imread(os.path.join(path,img), cv2.IMREAD_GRAYSCALE) # convert to array\n",
    "        plt.imshow(img_array, cmap='gray') # graph it\n",
    "        plt.show() # display!\n",
    "\n",
    "        break\n",
    "    break"
   ]
  },
  {
   "attachments": {},
   "cell_type": "markdown",
   "metadata": {},
   "source": [
    "- That's a 375 tall, 500 wide, and 3-channel image. 3-channel is because it's RGB (color)\n",
    "- We definitely dont want the images that big,and also various images are different shapes and this is not good\n",
    "- Lets Resize"
   ]
  },
  {
   "cell_type": "code",
   "execution_count": null,
   "metadata": {},
   "outputs": [],
   "source": [
    "IMG_SIZE = 100\n",
    "\n",
    "new_array = cv2.resize(img_array, (IMG_SIZE, IMG_SIZE))\n",
    "plt.imshow(new_array, cmap='gray')\n",
    "plt.show()"
   ]
  },
  {
   "attachments": {},
   "cell_type": "markdown",
   "metadata": {},
   "source": [
    "- Next, we're going to want to create training data and we need to set aside some images for final testing\n",
    "- Manually create a directory called Testing and then create 2 directories inside of there, one for Dog and one for Cat\n",
    "- we are moving this images not copying them"
   ]
  },
  {
   "cell_type": "code",
   "execution_count": null,
   "metadata": {},
   "outputs": [],
   "source": [
    "training_data = []\n",
    "\n",
    "def create_training_data():\n",
    "    for category in CATEGORIES: # do dogs and cats\n",
    "\n",
    "        path = os.path.join(DATADIR, category) # create path to dogs and cats\n",
    "        class_num = CATEGORIES.index(category) # get classifiation (0 or 1; 0=dog 1=cat)\n",
    "\n",
    "        for img in tqdm(os.listdir(path)): # iterate over each image per dogs and cats\n",
    "            try:\n",
    "                img_array = cv2.imread(os.path.join(path,img), cv2.IMREAD_GRAYSCALE) # convert to array\n",
    "                new_array = cv2.resize(img_array,(IMG_SIZE, IMG_SIZE)) # resize to normalise data size\n",
    "                training_data.append([new_array, class_num]) # add this to our training_data\n",
    "            except Exception as e:\n",
    "                pass\n",
    "\n",
    "create_training_data()"
   ]
  },
  {
   "cell_type": "code",
   "execution_count": null,
   "metadata": {},
   "outputs": [],
   "source": [
    "print(len(training_data))  "
   ]
  },
  {
   "attachments": {},
   "cell_type": "markdown",
   "metadata": {},
   "source": [
    "- We want to do is make sure our data is balanced\n",
    "- If you do not balance, the model will initially learn that the best thing to do is predict only one class, whichever is the most common\n",
    "- We want to shuffle the data"
   ]
  },
  {
   "cell_type": "code",
   "execution_count": null,
   "metadata": {},
   "outputs": [],
   "source": [
    "import random\n",
    "\n",
    "random.shuffle(training_data)"
   ]
  },
  {
   "cell_type": "code",
   "execution_count": null,
   "metadata": {},
   "outputs": [],
   "source": [
    "for sample in training_data[:10]:\n",
    "    print(sample[1])"
   ]
  },
  {
   "attachments": {},
   "cell_type": "markdown",
   "metadata": {},
   "source": [
    "Lets build out CNN Model"
   ]
  },
  {
   "cell_type": "code",
   "execution_count": null,
   "metadata": {},
   "outputs": [],
   "source": [
    "X = []\n",
    "y = []\n",
    "\n",
    "for features,label in training_data:\n",
    "    X.append(features)\n",
    "    y.append(label)\n",
    "\n",
    "print(X[0].reshape(-1, IMG_SIZE, IMG_SIZE, 1)) \n",
    "\n",
    "X = np.array(X).reshape(-1, IMG_SIZE, IMG_SIZE, 1) # X has to be a numpy array, Keras doesnt accept anything else\n",
    "y = np.array(y) # in the latest version, both X and y has to be Numpy/tensor objects\n"
   ]
  },
  {
   "attachments": {},
   "cell_type": "markdown",
   "metadata": {},
   "source": [
    "Lets save this data using Pickle, so we don't need to keep calculating everything we need to play with the neural network model\n",
    "Python pickle, used for serializing and de-serializing objects into Python format text strings"
   ]
  },
  {
   "cell_type": "code",
   "execution_count": null,
   "metadata": {},
   "outputs": [],
   "source": [
    "# import pickle\n",
    "\n",
    "# pickle_out = open(\"X.pickle\", \"wb\")\n",
    "# pickle.dump(X, pickle_out)\n",
    "# pickle_out.close()\n",
    "\n",
    "# pickle_out = open(\"y.pickle\", \"wb\")\n",
    "# pickle.dump(y, pickle_out)\n",
    "# pickle_out.close()"
   ]
  },
  {
   "attachments": {},
   "cell_type": "markdown",
   "metadata": {},
   "source": [
    "- The basic CNN structure is as follows: Convolution -> Pooling -> Convolution -> Pooling -> Fully Connected Layer -> Output\n",
    "\n",
    "- Each convolution and pooling step is a hidden layer. After this, we have a fully connected layer, followed by the output layer. The fully connected layer is your typical neural network (multilayer perceptron) type of layer, and same with the output layer.\n",
    "\n",
    "- Colors are coded as red, green and blue intensities in hexadecimal notation, where values is represented (0 - 255)"
   ]
  },
  {
   "cell_type": "code",
   "execution_count": 7,
   "metadata": {},
   "outputs": [
    {
     "name": "stdout",
     "output_type": "stream",
     "text": [
      "Epoch 1/6\n",
      "546/546 [==============================] - 49s 89ms/step - loss: 0.6176 - accuracy: 0.6492 - val_loss: 0.5496 - val_accuracy: 0.7160\n",
      "Epoch 2/6\n",
      "546/546 [==============================] - 48s 88ms/step - loss: 0.5042 - accuracy: 0.7554 - val_loss: 0.5173 - val_accuracy: 0.7442\n",
      "Epoch 3/6\n",
      "546/546 [==============================] - 47s 86ms/step - loss: 0.4291 - accuracy: 0.7993 - val_loss: 0.4805 - val_accuracy: 0.7892\n",
      "Epoch 4/6\n",
      "546/546 [==============================] - 48s 89ms/step - loss: 0.3547 - accuracy: 0.8414 - val_loss: 0.4716 - val_accuracy: 0.7872\n",
      "Epoch 5/6\n",
      "546/546 [==============================] - 47s 87ms/step - loss: 0.2683 - accuracy: 0.8861 - val_loss: 0.4992 - val_accuracy: 0.7872\n",
      "Epoch 6/6\n",
      "546/546 [==============================] - 48s 89ms/step - loss: 0.1770 - accuracy: 0.9313 - val_loss: 0.6105 - val_accuracy: 0.7834\n"
     ]
    },
    {
     "data": {
      "text/plain": [
       "<keras.src.callbacks.History at 0x3b75a15a0>"
      ]
     },
     "execution_count": 7,
     "metadata": {},
     "output_type": "execute_result"
    }
   ],
   "source": [
    "import tensorflow as tf\n",
    "from keras.models import Sequential, Model\n",
    "from keras.layers import Dense, Conv2D, MaxPooling2D, Flatten,Activation\n",
    "from keras.callbacks import TensorBoard\n",
    "import pickle\n",
    "import time\n",
    "\n",
    "NAME = \"Cats-vs-dogs-CNN-64x2-{}\".format(int(time.time()))\n",
    "\n",
    "tensorboard = TensorBoard(log_dir=\"logs/{}\".format(NAME))\n",
    "\n",
    "pickle_in = open(\"X.pickle\", \"rb\")\n",
    "X = pickle.load(pickle_in)\n",
    "\n",
    "pickle_in = open(\"y.pickle\", \"rb\")\n",
    "y = pickle.load(pickle_in)\n",
    "\n",
    "X = X/255.0\n",
    "\n",
    "model = Sequential()\n",
    "\n",
    "#1st Layer\n",
    "model.add(Conv2D(64, (3, 3), input_shape=X.shape[1:]))     # grab the input shape dynamically 50x50x1 \n",
    "model.add(Activation('relu'))                           # rectified linear activation function\n",
    "model.add(MaxPooling2D(pool_size=(2,2)))\n",
    "\n",
    "#2nd Layer\n",
    "model.add(Conv2D(64, (3, 3)))  \n",
    "model.add(Activation('relu'))                           # rectified linear activation function\n",
    "model.add(MaxPooling2D(pool_size=(2,2)))\n",
    "\n",
    "#3rd Layer\n",
    "model.add(Flatten())           # this converts our 3D feature maps to 1D feature vectors\n",
    "model.add(Dense(64))\n",
    "model.add(Activation('relu'))\n",
    "\n",
    "model.add(Dense(1))\n",
    "model.add(Activation('sigmoid'))\n",
    "\n",
    "model.compile(loss='binary_crossentropy', optimizer='adam', metrics=['accuracy'])\n",
    "\n",
    "model.fit(X, y, \n",
    "          batch_size=32, \n",
    "          epochs=6, \n",
    "          validation_split=0.3,\n",
    "          callbacks=[tensorboard])\n"
   ]
  }
 ],
 "metadata": {
  "kernelspec": {
   "display_name": "menv",
   "language": "python",
   "name": "python3"
  },
  "language_info": {
   "codemirror_mode": {
    "name": "ipython",
    "version": 3
   },
   "file_extension": ".py",
   "mimetype": "text/x-python",
   "name": "python",
   "nbconvert_exporter": "python",
   "pygments_lexer": "ipython3",
   "version": "3.10.8"
  },
  "orig_nbformat": 4
 },
 "nbformat": 4,
 "nbformat_minor": 2
}
